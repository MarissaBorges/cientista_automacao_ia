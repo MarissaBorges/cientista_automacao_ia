{
 "cells": [
  {
   "cell_type": "markdown",
   "id": "a88c4b1c",
   "metadata": {},
   "source": [
    "# Exercícios de Numpy"
   ]
  },
  {
   "cell_type": "markdown",
   "id": "7938114d",
   "metadata": {},
   "source": [
    "### Importação"
   ]
  },
  {
   "cell_type": "code",
   "execution_count": 2,
   "id": "8041e918",
   "metadata": {},
   "outputs": [],
   "source": [
    "import numpy as np\n",
    "from numpy.random import default_rng\n",
    "\n",
    "rng = default_rng()"
   ]
  },
  {
   "cell_type": "markdown",
   "id": "f7b23c34",
   "metadata": {},
   "source": [
    "### Função linha()"
   ]
  },
  {
   "cell_type": "code",
   "execution_count": 5,
   "id": "d3df1eb3",
   "metadata": {},
   "outputs": [],
   "source": [
    "def linha():\n",
    "    print('-'*30)"
   ]
  },
  {
   "cell_type": "markdown",
   "id": "6aad3aa3",
   "metadata": {},
   "source": [
    "### 1 - Crie uma matriz NumPy 4x4 com números inteiros aleatórios entre 1 e 10."
   ]
  },
  {
   "cell_type": "code",
   "execution_count": 3,
   "id": "0c96c22a",
   "metadata": {},
   "outputs": [
    {
     "name": "stdout",
     "output_type": "stream",
     "text": [
      "[[9 5 3 1]\n",
      " [3 4 1 2]\n",
      " [9 9 8 9]\n",
      " [5 3 1 5]]\n"
     ]
    }
   ],
   "source": [
    "matriz = rng.integers(low=1, high=10, size=(4,4))\n",
    "print(matriz)"
   ]
  },
  {
   "cell_type": "markdown",
   "id": "2cc2374a",
   "metadata": {},
   "source": [
    "### 2 - Calcule a média de cada linha e de cada coluna da matriz criada no exercício 1."
   ]
  },
  {
   "cell_type": "code",
   "execution_count": null,
   "id": "364f7b8d",
   "metadata": {},
   "outputs": [
    {
     "name": "stdout",
     "output_type": "stream",
     "text": [
      "[[1 3 9 7]\n",
      " [5 6 3 4]\n",
      " [4 4 1 8]\n",
      " [5 8 4 9]]\n",
      "------------------------------\n",
      "[5.   4.5  4.25 6.5 ]\n",
      "------------------------------\n",
      "[3.75 5.25 4.25 7.  ]\n"
     ]
    }
   ],
   "source": [
    "matriz = rng.integers(low=1, high=10, size=(4,4))\n",
    "print(matriz)\n",
    "linha()\n",
    "media_matriz_linha = np.mean(matriz, axis=1) # axis=1 é para cada linha\n",
    "print(media_matriz_linha)\n",
    "linha()\n",
    "media_matriz_coluna = np.mean(matriz, axis=0) # axis=0 é para cada coluna\n",
    "print(media_matriz_coluna)"
   ]
  },
  {
   "cell_type": "markdown",
   "id": "e99fd22e",
   "metadata": {},
   "source": [
    "### 3 - Remodele a matriz do exercício 1 em uma matriz 2x8."
   ]
  },
  {
   "cell_type": "code",
   "execution_count": 6,
   "id": "6360329e",
   "metadata": {},
   "outputs": [
    {
     "name": "stdout",
     "output_type": "stream",
     "text": [
      "[[1 8 4 8]\n",
      " [4 8 9 7]\n",
      " [9 1 4 4]\n",
      " [5 2 8 2]]\n",
      "------------------------------\n",
      "[[1 8 4 8 4 8 9 7]\n",
      " [9 1 4 4 5 2 8 2]]\n"
     ]
    }
   ],
   "source": [
    "rng = default_rng()\n",
    "matriz = rng.integers(low=1, high=10, size=(4,4))\n",
    "print(matriz)\n",
    "linha()\n",
    "nova_matriz = np.reshape(matriz, (2,8))\n",
    "print(nova_matriz)"
   ]
  },
  {
   "cell_type": "markdown",
   "id": "3444f2f7",
   "metadata": {},
   "source": [
    "### 4 - Extraia todos os elementos da matriz no exercício 1 que sejam maiores que 5."
   ]
  },
  {
   "cell_type": "code",
   "execution_count": 7,
   "id": "f4fdab13",
   "metadata": {},
   "outputs": [
    {
     "name": "stdout",
     "output_type": "stream",
     "text": [
      "[[6 4 9 7]\n",
      " [2 4 4 2]\n",
      " [4 9 2 7]\n",
      " [3 1 6 3]]\n",
      "------------------------------\n",
      "[6 9 7 9 7 6]\n"
     ]
    }
   ],
   "source": [
    "rng = default_rng()\n",
    "matriz = rng.integers(low=1, high=10, size=(4,4))\n",
    "print(matriz)\n",
    "linha()\n",
    "matriz_maior5 = matriz[matriz>5]\n",
    "print(matriz_maior5)"
   ]
  },
  {
   "cell_type": "markdown",
   "id": "2f4364c6",
   "metadata": {},
   "source": [
    "### 5 - Crie duas matrizes NumPy do mesmo formato e execute adição, subtração, multiplicação e divisão elemento a elemento."
   ]
  },
  {
   "cell_type": "code",
   "execution_count": 8,
   "id": "ae614ade",
   "metadata": {},
   "outputs": [],
   "source": [
    "rng = default_rng()\n",
    "matriz1 = rng.integers(low=1, high=10, size=(4,4))\n",
    "matriz2 = rng.integers(low=1, high=10, size=(4,4))"
   ]
  },
  {
   "cell_type": "markdown",
   "id": "a3880c0e",
   "metadata": {},
   "source": [
    "#### soma | np.add()"
   ]
  },
  {
   "cell_type": "code",
   "execution_count": 9,
   "id": "4f7b69cb",
   "metadata": {},
   "outputs": [
    {
     "name": "stdout",
     "output_type": "stream",
     "text": [
      "[[11 15 14  9]\n",
      " [ 8 16  6 14]\n",
      " [ 9  6 14  6]\n",
      " [ 2  8  6 11]]\n",
      "------------------------------\n"
     ]
    }
   ],
   "source": [
    "print(matriz1 + matriz2) # np.add()\n",
    "linha()"
   ]
  },
  {
   "cell_type": "markdown",
   "id": "267f2e9f",
   "metadata": {},
   "source": [
    "#### subtração | np.subtract()"
   ]
  },
  {
   "cell_type": "code",
   "execution_count": 10,
   "id": "57a97f68",
   "metadata": {},
   "outputs": [
    {
     "name": "stdout",
     "output_type": "stream",
     "text": [
      "[[ 5  3 -2 -7]\n",
      " [ 0  2  2  4]\n",
      " [ 3 -2 -2  4]\n",
      " [ 0  4 -2 -1]]\n",
      "------------------------------\n"
     ]
    }
   ],
   "source": [
    "print(matriz1 - matriz2) # np.subtract()\n",
    "linha()"
   ]
  },
  {
   "cell_type": "markdown",
   "id": "a97faef3",
   "metadata": {},
   "source": [
    "#### multiplicação | np.multiply()"
   ]
  },
  {
   "cell_type": "code",
   "execution_count": 11,
   "id": "eb601f94",
   "metadata": {},
   "outputs": [
    {
     "name": "stdout",
     "output_type": "stream",
     "text": [
      "[[24 54 48  8]\n",
      " [16 63  8 45]\n",
      " [18  8 48  5]\n",
      " [ 1 12  8 30]]\n",
      "------------------------------\n"
     ]
    }
   ],
   "source": [
    "print(matriz1 * matriz2) # np.multiply()\n",
    "linha()"
   ]
  },
  {
   "cell_type": "markdown",
   "id": "4ceb9ac6",
   "metadata": {},
   "source": [
    "#### divisão | np.divide()"
   ]
  },
  {
   "cell_type": "code",
   "execution_count": 12,
   "id": "9836c998",
   "metadata": {},
   "outputs": [
    {
     "name": "stdout",
     "output_type": "stream",
     "text": [
      "[[2.66666667 1.5        0.75       0.125     ]\n",
      " [1.         1.28571429 2.         1.8       ]\n",
      " [2.         0.5        0.75       5.        ]\n",
      " [1.         3.         0.5        0.83333333]]\n",
      "------------------------------\n"
     ]
    }
   ],
   "source": [
    "print(matriz1 / matriz2) # np.divide()\n",
    "linha()"
   ]
  }
 ],
 "metadata": {
  "kernelspec": {
   "display_name": "Python 3",
   "language": "python",
   "name": "python3"
  },
  "language_info": {
   "codemirror_mode": {
    "name": "ipython",
    "version": 3
   },
   "file_extension": ".py",
   "mimetype": "text/x-python",
   "name": "python",
   "nbconvert_exporter": "python",
   "pygments_lexer": "ipython3",
   "version": "3.13.3"
  }
 },
 "nbformat": 4,
 "nbformat_minor": 5
}
