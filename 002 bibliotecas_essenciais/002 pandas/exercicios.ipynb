{
 "cells": [
  {
   "cell_type": "markdown",
   "id": "a88c4b1c",
   "metadata": {},
   "source": [
    "# Exercícios de Pandas"
   ]
  },
  {
   "cell_type": "markdown",
   "id": "7938114d",
   "metadata": {},
   "source": [
    "### Importação"
   ]
  },
  {
   "cell_type": "code",
   "execution_count": 1,
   "id": "8041e918",
   "metadata": {},
   "outputs": [],
   "source": [
    "import pandas as pd"
   ]
  },
  {
   "cell_type": "markdown",
   "id": "6aad3aa3",
   "metadata": {},
   "source": [
    "### 1 - Crie um Pandas DataFrame a partir de um dicionário contendo dados sobre funcionários (nome, idade, departamento, salário)."
   ]
  },
  {
   "cell_type": "code",
   "execution_count": 7,
   "id": "0c96c22a",
   "metadata": {},
   "outputs": [
    {
     "name": "stdout",
     "output_type": "stream",
     "text": [
      "    nome  idade      departamento  salario\n",
      "0  Maria     22  Recursos Humanos     1500\n",
      "1  Pedro     30        Manutenção     2000\n",
      "2   Luiz     18     Suporte de TI     1800\n",
      "3  Laura     21        Manutenção     3000\n"
     ]
    }
   ],
   "source": [
    "funcionarios = {\n",
    "    'nome': ['Maria', 'Pedro', 'Luiz', 'Laura'],\n",
    "    'idade': [22, 30, 18, 21],\n",
    "    'departamento': ['Recursos Humanos', 'Manutenção', 'Suporte de TI', 'Manutenção'],\n",
    "    'salario': [1500, 2000, 1800, 3000]\n",
    "}\n",
    "\n",
    "funcionarios_df = pd.DataFrame(funcionarios)\n",
    "print(funcionarios_df)"
   ]
  },
  {
   "cell_type": "markdown",
   "id": "2cc2374a",
   "metadata": {},
   "source": [
    "### 2 - Leia um arquivo CSV em um Pandas DataFrame e exiba as primeiras 10 linhas."
   ]
  },
  {
   "cell_type": "code",
   "execution_count": 12,
   "id": "364f7b8d",
   "metadata": {},
   "outputs": [
    {
     "name": "stdout",
     "output_type": "stream",
     "text": [
      "     Produto    Categoria  Preço  Quantidade  Data_Venda\n",
      "0  Produto_A  Eletrônicos   1200           5  2023-01-15\n",
      "1  Produto_B       Livros     35          20  2023-01-20\n",
      "2  Produto_C       Roupas     80          10  2023-01-25\n",
      "3  Produto_D  Eletrônicos    800           3  2023-02-01\n",
      "4  Produto_E    Alimentos     15          50  2023-02-05\n",
      "5  Produto_F       Livros     25          15  2023-02-10\n",
      "6  Produto_G       Roupas    120           8  2023-02-15\n",
      "7  Produto_H  Eletrônicos   2500           2  2023-02-20\n",
      "8  Produto_I    Alimentos      8         100  2023-02-25\n",
      "9  Produto_J       Livros     45          12  2023-03-01\n"
     ]
    }
   ],
   "source": [
    "import os\n",
    "\n",
    "caminho =  os.path.join(os.getcwd(), 'ex002_base.csv')\n",
    "\n",
    "# Primeiro definimos o DataFrame como sendo uma tabela completa\n",
    "df = pd.read_csv(caminho)\n",
    "\n",
    "# Depois alteramos a visualização dela conforme a necessidade\n",
    "print(df.head(10))"
   ]
  },
  {
   "cell_type": "markdown",
   "id": "e99fd22e",
   "metadata": {},
   "source": [
    "### 3 - Selecione todos os funcionários do DataFrame no exercício 1 que estão no departamento de 'Marketing'."
   ]
  },
  {
   "cell_type": "code",
   "execution_count": 9,
   "id": "6360329e",
   "metadata": {},
   "outputs": [
    {
     "name": "stdout",
     "output_type": "stream",
     "text": [
      "0    False\n",
      "1    False\n",
      "2    False\n",
      "3    False\n",
      "Name: departamento, dtype: bool\n"
     ]
    }
   ],
   "source": [
    "tabela_funcionarios = pd.DataFrame(funcionarios)\n",
    "print(tabela_funcionarios['departamento'] == 'Marketing')"
   ]
  },
  {
   "cell_type": "markdown",
   "id": "3444f2f7",
   "metadata": {},
   "source": [
    "### 4 - Calcule o salário médio para cada departamento no DataFrame do exercício 1."
   ]
  },
  {
   "cell_type": "code",
   "execution_count": 10,
   "id": "f4fdab13",
   "metadata": {},
   "outputs": [
    {
     "name": "stdout",
     "output_type": "stream",
     "text": [
      "                  salario\n",
      "departamento             \n",
      "Manutenção         2500.0\n",
      "Recursos Humanos   1500.0\n",
      "Suporte de TI      1800.0\n"
     ]
    }
   ],
   "source": [
    "tabela_funcionarios = pd.DataFrame(funcionarios)\n",
    "\n",
    "tabela_departamentos = tabela_funcionarios[['departamento', 'salario']].groupby('departamento').mean()\n",
    "print(tabela_departamentos)"
   ]
  },
  {
   "cell_type": "markdown",
   "id": "2f4364c6",
   "metadata": {},
   "source": [
    "### 5 - Mescle dois DataFrames: um contendo informações do funcionário (ID, Nome, Departamento) e outro contendo dados de desempenho (ID, Classificação)."
   ]
  },
  {
   "cell_type": "code",
   "execution_count": 11,
   "id": "4f7b69cb",
   "metadata": {},
   "outputs": [
    {
     "name": "stdout",
     "output_type": "stream",
     "text": [
      "   ID   nome      departamento Classificação\n",
      "0   4  Maria  Recursos Humanos             D\n",
      "1   2  Pedro        Manutenção             B\n",
      "2   1   Luiz     Suporte de TI             A\n",
      "3   3  Laura        Financeiro             C\n"
     ]
    }
   ],
   "source": [
    "funcionarios = {\n",
    "    'ID': [4, 2, 1, 3],\n",
    "    'nome': ['Maria', 'Pedro', 'Luiz', 'Laura'],\n",
    "    'departamento': ['Recursos Humanos', 'Manutenção', 'Suporte de TI', 'Financeiro']\n",
    "}\n",
    "desempenho = {\n",
    "    'ID': [1, 2, 3, 4],\n",
    "    'Classificação': ['A', 'B', 'C', 'D']\n",
    "}\n",
    "\n",
    "df1 = pd.DataFrame(funcionarios)\n",
    "df2 = pd.DataFrame(desempenho)\n",
    "\n",
    "df_geral = pd.merge(df1, df2)\n",
    "print(df_geral)"
   ]
  }
 ],
 "metadata": {
  "kernelspec": {
   "display_name": "Python 3",
   "language": "python",
   "name": "python3"
  },
  "language_info": {
   "codemirror_mode": {
    "name": "ipython",
    "version": 3
   },
   "file_extension": ".py",
   "mimetype": "text/x-python",
   "name": "python",
   "nbconvert_exporter": "python",
   "pygments_lexer": "ipython3",
   "version": "3.13.3"
  }
 },
 "nbformat": 4,
 "nbformat_minor": 5
}
